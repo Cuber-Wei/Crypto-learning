{
 "cells": [
  {
   "cell_type": "markdown",
   "metadata": {},
   "source": [
    "# RSA经典题型\n",
    "\n",
    "P.S.:\n",
    "1. 默认读者已掌握RSA加密的基础知识，如果读者还不知道RSA算法，请先自行了解RSA算法的基本原理。\n",
    "2. 请配置好密码学常用python环境，安装**pycryptodome**、**gmpy2**、**numpy**等常用数学库。\n",
    "3. 常见的函数使用可以移步[这个网址](https://www.cnblogs.com/Lovechan/p/17622466.html)了解。\n",
    "\n",
    "## 绪\n",
    "\n",
    "RSA的题目以分解$p,q$为基本突破口。我们今后做的较多的题目也是分解$n$为核心。\n",
    "\n",
    "本章主要列举一些RSA经典考点（不涉及高深数学知识和sagemath）。"
   ]
  },
  {
   "cell_type": "markdown",
   "metadata": {},
   "source": [
    "## 已知$p,q,e,c$\n",
    "\n",
    "[例题](./pqec.py)\n",
    "\n",
    "最正常的RSA题目，按正常的解密算法来解就行。"
   ]
  },
  {
   "cell_type": "code",
   "execution_count": null,
   "metadata": {},
   "outputs": [],
   "source": [
    "from Crypto.Util.number import *\n",
    "\n",
    "p = ...\n",
    "q = ...\n",
    "e = ...\n",
    "c = ...\n",
    "\n",
    "phi = (p - 1)*(q - 1)\n",
    "d = inverse(e, phi)\n",
    "m = pow(c, d, p*q)\n",
    "\n",
    "print(long_to_bytes(m))"
   ]
  },
  {
   "cell_type": "markdown",
   "metadata": {},
   "source": [
    "## 已知$n(易分解),e,c$\n",
    "\n",
    "[例题](./small_n.py)\n",
    "\n",
    "$n$较小时可以通过[这个网站](http://www.factordb.com/)尝试分解。\n",
    "\n",
    "![small_n_fact](./assets/small_n_factor.png)\n",
    "\n",
    "这样就转化成了已知$p,q,e,c$的最基本的题型了。\n"
   ]
  },
  {
   "cell_type": "markdown",
   "metadata": {},
   "source": [
    "## 已知$n,c,e(很小,通常为3)$\n",
    "\n",
    "[例题](./low_e.py)\n",
    "\n",
    "低加密指数攻击，可以暴力破解。\n",
    "\n",
    "分析：\n",
    "$$\n",
    "c=m^e\\pmod n\\\\\n",
    "c=m^e+kn\\\\\n",
    "m=(c+kn)^{1/e}\n",
    "$$\n",
    "我们从$0$开始枚举$k$，找到能被开方开尽的就是答案。这边使用`gmpy2`里的`iroot()`函数快速开多次幂。"
   ]
  },
  {
   "cell_type": "code",
   "execution_count": null,
   "metadata": {},
   "outputs": [],
   "source": [
    "from Crypto.Util.number import *\n",
    "from gmpy2 import iroot\n",
    "\n",
    "e = ...\n",
    "n = ...\n",
    "c = ...\n",
    "\n",
    "k = 0\n",
    "while True:\n",
    "    res = iroot(n*k + c, e)\n",
    "    if res[1]:\n",
    "        print(long_to_bytes(res[0]))\n",
    "        break\n",
    "    k += 1"
   ]
  },
  {
   "cell_type": "markdown",
   "metadata": {},
   "source": [
    "## 已知$c,e,n$，和 $dp或dq$\n",
    "\n",
    "[例题](./dp.py)\n",
    "\n",
    "分析：\n",
    "$$\n",
    "dp=d+k_1\\times (p-1)\\\\\n",
    "dp\\times e=e\\times d+k_1(p-1)\\\\\n",
    "$$\n",
    "又$e\\times d=k_2\\times (p-1)\\times (q-1)+1$，得：\n",
    "$$\n",
    "e\\times d=dp\\times e-k_1\\times (p-1)=k_2\\times (p-1)\\times (q-1)+1\\\\\n",
    "dp\\times e=k_1\\times (p-1)+k_2\\times (p-1)\\times (q-1)+1\\\\\n",
    "\\Rightarrow dp\\times e=(p-1)\\times [k_1+k_2\\times (q-1)]+1\\\\\n",
    "令K=k_1+k_2\\times (q-1),得：\\\\\n",
    "dp\\times e=(p-1)\\times K+1\\\\\n",
    "\\Rightarrow dp\\times e-1=(p-1)\\times K\\\\\n",
    "$$\n",
    "在这里界定一下$K$的范围：\n",
    "$$\n",
    "dp<p-1\\\\\n",
    "\\Rightarrow (p-1)\\times K<e\\times (p-1)-1\n",
    "\\Rightarrow K<e\\\\\n",
    "$$\n",
    "爆破就完事了。"
   ]
  },
  {
   "cell_type": "code",
   "execution_count": null,
   "metadata": {},
   "outputs": [],
   "source": [
    "from Crypto.Util.number import *\n",
    "\n",
    "n = ...\n",
    "e = ...\n",
    "c = ...\n",
    "dp = ...\n",
    "\n",
    "for k in range(1, e):\n",
    "    if (dp*e - 1) % k == 0:\n",
    "        p = ((dp*e - 1) // k) + 1\n",
    "        if n % p == 0:\n",
    "            q = n // p\n",
    "            phi = (p - 1)*(q - 1)\n",
    "            d = inverse(e, phi)\n",
    "            print(long_to_bytes(pow(c, d, n)))"
   ]
  }
 ],
 "metadata": {
  "kernelspec": {
   "display_name": "Python 3",
   "language": "python",
   "name": "python3"
  },
  "language_info": {
   "name": "python",
   "version": "3.10.10"
  },
  "orig_nbformat": 4
 },
 "nbformat": 4,
 "nbformat_minor": 2
}
